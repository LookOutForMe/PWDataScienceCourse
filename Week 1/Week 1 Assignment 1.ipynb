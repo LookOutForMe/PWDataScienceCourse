{
 "cells": [
  {
   "cell_type": "markdown",
   "id": "55391983-cb31-4517-939b-4c676650e6dc",
   "metadata": {},
   "source": [
    "Q1."
   ]
  },
  {
   "cell_type": "markdown",
   "id": "2b2b32c8-c838-4298-b1fc-6fda9a59c029",
   "metadata": {},
   "source": [
    "(i)"
   ]
  },
  {
   "cell_type": "code",
   "execution_count": 1,
   "id": "4aab2018-dfcc-4bc9-ac8f-03f183d1120b",
   "metadata": {},
   "outputs": [],
   "source": [
    "s = \"Ariyan Shaw\""
   ]
  },
  {
   "cell_type": "code",
   "execution_count": 2,
   "id": "7b095243-fc89-468d-a89a-a7bcfeca1848",
   "metadata": {},
   "outputs": [
    {
     "data": {
      "text/plain": [
       "'Ariyan Shaw'"
      ]
     },
     "execution_count": 2,
     "metadata": {},
     "output_type": "execute_result"
    }
   ],
   "source": [
    "s"
   ]
  },
  {
   "cell_type": "markdown",
   "id": "49d8425a-0171-4c14-8a19-55bfcfeed50c",
   "metadata": {},
   "source": [
    "(ii)"
   ]
  },
  {
   "cell_type": "code",
   "execution_count": 3,
   "id": "554894af-8649-4610-b4d8-896305ad7cf6",
   "metadata": {},
   "outputs": [],
   "source": [
    "l = [1,2,3,4,5, \"Ariyan\", \"Shaw\", 23.5, True]"
   ]
  },
  {
   "cell_type": "code",
   "execution_count": 4,
   "id": "4c332a52-6fbc-45cd-802b-eaf2cf208881",
   "metadata": {},
   "outputs": [
    {
     "data": {
      "text/plain": [
       "[1, 2, 3, 4, 5, 'Ariyan', 'Shaw', 23.5, True]"
      ]
     },
     "execution_count": 4,
     "metadata": {},
     "output_type": "execute_result"
    }
   ],
   "source": [
    "l"
   ]
  },
  {
   "cell_type": "markdown",
   "id": "9ac086ce-7867-4095-8c8e-2c59aeafa634",
   "metadata": {},
   "source": [
    "(iii)"
   ]
  },
  {
   "cell_type": "code",
   "execution_count": 5,
   "id": "ef401ee8-c016-469a-8617-bbf9b117dea2",
   "metadata": {},
   "outputs": [],
   "source": [
    "f = 23.675466"
   ]
  },
  {
   "cell_type": "code",
   "execution_count": 6,
   "id": "5766bb1f-a82e-4b17-8ca9-90e6c8f9ab56",
   "metadata": {},
   "outputs": [
    {
     "data": {
      "text/plain": [
       "23.675466"
      ]
     },
     "execution_count": 6,
     "metadata": {},
     "output_type": "execute_result"
    }
   ],
   "source": [
    "f"
   ]
  },
  {
   "cell_type": "markdown",
   "id": "d5e87298-7dc4-400e-8a1c-deffe346a302",
   "metadata": {},
   "source": [
    "(iv)"
   ]
  },
  {
   "cell_type": "code",
   "execution_count": 9,
   "id": "7155203e-c06b-4ce7-bfac-4c4d6c04195c",
   "metadata": {},
   "outputs": [],
   "source": [
    "t = (\"Cricket\", \"Football\", \"Hockey\")"
   ]
  },
  {
   "cell_type": "code",
   "execution_count": 10,
   "id": "e3d74f28-159b-4c19-95db-b001f60a6961",
   "metadata": {},
   "outputs": [
    {
     "data": {
      "text/plain": [
       "('Cricket', 'Football', 'Hockey')"
      ]
     },
     "execution_count": 10,
     "metadata": {},
     "output_type": "execute_result"
    }
   ],
   "source": [
    "t"
   ]
  },
  {
   "cell_type": "markdown",
   "id": "a77ec6fb-17e5-4196-b4cb-96ccad60894a",
   "metadata": {},
   "source": [
    "Q2."
   ]
  },
  {
   "cell_type": "markdown",
   "id": "c8704fdf-5677-494f-8b4e-d2ed33113a72",
   "metadata": {},
   "source": [
    "(i)"
   ]
  },
  {
   "cell_type": "code",
   "execution_count": 11,
   "id": "13ba6780-fa1f-4156-a053-4db366dcff10",
   "metadata": {},
   "outputs": [],
   "source": [
    "var1=''"
   ]
  },
  {
   "cell_type": "code",
   "execution_count": 12,
   "id": "a6dfbc7f-e0c5-445e-bf4d-ea150c9b9f0c",
   "metadata": {},
   "outputs": [
    {
     "data": {
      "text/plain": [
       "str"
      ]
     },
     "execution_count": 12,
     "metadata": {},
     "output_type": "execute_result"
    }
   ],
   "source": [
    "type (var1)"
   ]
  },
  {
   "cell_type": "markdown",
   "id": "848803f3-9e2f-45a9-8d8d-5c0c8a54c079",
   "metadata": {},
   "source": [
    "(ii)"
   ]
  },
  {
   "cell_type": "code",
   "execution_count": 14,
   "id": "70910c71-732b-4e74-8bc8-819ab75e7565",
   "metadata": {},
   "outputs": [],
   "source": [
    "var2 = '[ DS , ML , Python]'"
   ]
  },
  {
   "cell_type": "code",
   "execution_count": 20,
   "id": "b1e445bf-ad55-4c41-81a0-c9c1add0fff8",
   "metadata": {},
   "outputs": [
    {
     "data": {
      "text/plain": [
       "str"
      ]
     },
     "execution_count": 20,
     "metadata": {},
     "output_type": "execute_result"
    }
   ],
   "source": [
    "type(var2)"
   ]
  },
  {
   "cell_type": "markdown",
   "id": "58eacc43-cba3-49a8-b6eb-f6efd1817e71",
   "metadata": {},
   "source": [
    "(iii)"
   ]
  },
  {
   "cell_type": "code",
   "execution_count": 21,
   "id": "378e2186-72c2-42f0-bbc9-717d74884242",
   "metadata": {},
   "outputs": [],
   "source": [
    "var3 = ['DS','ML','Python']"
   ]
  },
  {
   "cell_type": "code",
   "execution_count": 22,
   "id": "41773450-90ce-439d-95ab-7d5f8b3a5a69",
   "metadata": {},
   "outputs": [
    {
     "data": {
      "text/plain": [
       "list"
      ]
     },
     "execution_count": 22,
     "metadata": {},
     "output_type": "execute_result"
    }
   ],
   "source": [
    "type(var3)"
   ]
  },
  {
   "cell_type": "markdown",
   "id": "53a511a9-aa77-4136-8efb-df571a1a943e",
   "metadata": {},
   "source": [
    "(iv)"
   ]
  },
  {
   "cell_type": "code",
   "execution_count": 26,
   "id": "d21ba97f-cd35-4d7e-8715-4331aa251eef",
   "metadata": {},
   "outputs": [],
   "source": [
    "var4=1"
   ]
  },
  {
   "cell_type": "code",
   "execution_count": null,
   "id": "5a70ee7b-db52-415a-8d2f-28b8bcbcb87a",
   "metadata": {},
   "outputs": [],
   "source": [
    "type(var4)"
   ]
  },
  {
   "cell_type": "markdown",
   "id": "282ee392-6e08-4caf-a345-e09fe63e5189",
   "metadata": {},
   "source": [
    "Q3."
   ]
  },
  {
   "cell_type": "markdown",
   "id": "b97f1dbf-4769-4c63-b5ba-ea013a4d1059",
   "metadata": {},
   "source": [
    "(i) / is used to find the quotient during a division process. An Example is given below"
   ]
  },
  {
   "cell_type": "code",
   "execution_count": 29,
   "id": "14601352-fdfb-4b17-9f41-cf5e988cb949",
   "metadata": {},
   "outputs": [
    {
     "data": {
      "text/plain": [
       "1.3333333333333333"
      ]
     },
     "execution_count": 29,
     "metadata": {},
     "output_type": "execute_result"
    }
   ],
   "source": [
    "4/3"
   ]
  },
  {
   "cell_type": "markdown",
   "id": "b4a4cc09-8f08-4014-b769-2cb19fa95db5",
   "metadata": {},
   "source": [
    "(ii) % is used to find the remainder during a division process. An example is given below"
   ]
  },
  {
   "cell_type": "code",
   "execution_count": 30,
   "id": "c2489176-f05c-4d62-8c01-9e0ed1ee585e",
   "metadata": {},
   "outputs": [
    {
     "data": {
      "text/plain": [
       "1"
      ]
     },
     "execution_count": 30,
     "metadata": {},
     "output_type": "execute_result"
    }
   ],
   "source": [
    "4%3"
   ]
  },
  {
   "cell_type": "markdown",
   "id": "f2f63b11-3888-4817-b8f4-2511e4396072",
   "metadata": {},
   "source": [
    "(iii) // is also known as floor division. It returns the floor value of the quotient after rounding it off. An example is given below"
   ]
  },
  {
   "cell_type": "code",
   "execution_count": 31,
   "id": "cee40657-d042-4c78-88a9-c1f3255cf097",
   "metadata": {},
   "outputs": [
    {
     "data": {
      "text/plain": [
       "1"
      ]
     },
     "execution_count": 31,
     "metadata": {},
     "output_type": "execute_result"
    }
   ],
   "source": [
    "4//3"
   ]
  },
  {
   "cell_type": "markdown",
   "id": "eb11bb08-1260-4cbb-87a9-7eb5329430e3",
   "metadata": {},
   "source": [
    "(iv) ** acts just like \"to the power\". x**y is equivalent to x^y in python. An example is given below"
   ]
  },
  {
   "cell_type": "code",
   "execution_count": 32,
   "id": "71a7f06c-f744-4177-a0b5-d93098f5099a",
   "metadata": {},
   "outputs": [
    {
     "data": {
      "text/plain": [
       "64"
      ]
     },
     "execution_count": 32,
     "metadata": {},
     "output_type": "execute_result"
    }
   ],
   "source": [
    "4**3"
   ]
  },
  {
   "cell_type": "markdown",
   "id": "6c921853-f32d-449f-81b1-864c466bdd70",
   "metadata": {},
   "source": [
    "Q4."
   ]
  },
  {
   "cell_type": "code",
   "execution_count": 36,
   "id": "27e33ba5-d9a2-4054-9bc1-acf632cc5bfb",
   "metadata": {},
   "outputs": [
    {
     "name": "stdout",
     "output_type": "stream",
     "text": [
      "2\n",
      "<class 'int'>\n",
      "3\n",
      "<class 'int'>\n",
      "4\n",
      "<class 'int'>\n",
      "5\n",
      "<class 'int'>\n",
      "6\n",
      "<class 'int'>\n",
      "ariyan\n",
      "<class 'str'>\n",
      "shaw\n",
      "<class 'str'>\n",
      "23.45\n",
      "<class 'float'>\n",
      "True\n",
      "<class 'bool'>\n",
      "False\n",
      "<class 'bool'>\n"
     ]
    }
   ],
   "source": [
    "l = [2,3,4,5,6,\"ariyan\",\"shaw\",23.45,True,False]\n",
    "for i in l:\n",
    "    print(i)\n",
    "    print(type(i))"
   ]
  },
  {
   "cell_type": "markdown",
   "id": "eda412bc-5968-4c1b-97a2-65886e26f732",
   "metadata": {},
   "source": [
    "Q5."
   ]
  },
  {
   "cell_type": "code",
   "execution_count": 1,
   "id": "2a782300-c75e-4071-9242-5f9eab6d0c98",
   "metadata": {},
   "outputs": [
    {
     "name": "stdin",
     "output_type": "stream",
     "text": [
      " 21\n",
      " 7\n"
     ]
    },
    {
     "name": "stdout",
     "output_type": "stream",
     "text": [
      "A is purely divisible by number B\n",
      "\n",
      "The number of times A is divisible by B is:  3\n"
     ]
    }
   ],
   "source": [
    "a = int(input())\n",
    "b = int(input())\n",
    "c = a\n",
    "while (a >= b):\n",
    "        a -= b\n",
    "if a==0:\n",
    "    print(\"A is purely divisible by number B\\n\")\n",
    "else:\n",
    "    print(\"A is not purely divisible by number B\\n\")\n",
    "print(\"The number of times A is divisible by B is: \", int(c/b))"
   ]
  },
  {
   "cell_type": "markdown",
   "id": "2ba939c2-9f3a-4bd7-a947-9daeac5f491e",
   "metadata": {},
   "source": [
    "Q6."
   ]
  },
  {
   "cell_type": "code",
   "execution_count": 2,
   "id": "23286b87-3c95-4663-9d79-e1111e71c662",
   "metadata": {},
   "outputs": [
    {
     "name": "stdout",
     "output_type": "stream",
     "text": [
      "The number is not divisible by 3\n",
      "The number is not divisible by 3\n",
      "The number is divisible by 3\n",
      "The number is not divisible by 3\n",
      "The number is not divisible by 3\n",
      "The number is divisible by 3\n",
      "The number is not divisible by 3\n",
      "The number is not divisible by 3\n",
      "The number is divisible by 3\n",
      "The number is not divisible by 3\n",
      "The number is not divisible by 3\n",
      "The number is divisible by 3\n",
      "The number is not divisible by 3\n",
      "The number is not divisible by 3\n",
      "The number is divisible by 3\n",
      "The number is not divisible by 3\n",
      "The number is not divisible by 3\n",
      "The number is divisible by 3\n",
      "The number is not divisible by 3\n",
      "The number is not divisible by 3\n",
      "The number is divisible by 3\n",
      "The number is not divisible by 3\n",
      "The number is not divisible by 3\n",
      "The number is divisible by 3\n",
      "The number is not divisible by 3\n"
     ]
    }
   ],
   "source": [
    "l = [10,11,12,13,14,15,16,17,18,19,20,21,22,23,24,25,26,27,28,29,30,31,32,33,34]\n",
    "for i in l:\n",
    "    if i%3 ==0:\n",
    "        print(\"The number is divisible by 3\")\n",
    "    else:\n",
    "        print(\"The number is not divisible by 3\")"
   ]
  },
  {
   "cell_type": "markdown",
   "id": "df5928b1-8cdc-48b0-9b8f-485423b9a27d",
   "metadata": {},
   "source": [
    "Q7."
   ]
  },
  {
   "cell_type": "markdown",
   "id": "fb3f657d-7956-4424-a417-13793b5d77de",
   "metadata": {},
   "source": [
    "Mutable data types are those whose values can be changed or new values can be assigned to them. \n",
    "In Python, list is a type of mutable data type. It has been demonstrated below with an example"
   ]
  },
  {
   "cell_type": "code",
   "execution_count": 3,
   "id": "c85cef29-3d05-42f0-9307-90b2ae19a3c1",
   "metadata": {},
   "outputs": [],
   "source": [
    "l = [1, 200, 3, 4, 5, 6, 'ariyan', (3+5j), False, 23.67]"
   ]
  },
  {
   "cell_type": "code",
   "execution_count": 4,
   "id": "6e223be8-64aa-45ba-bc18-e0da8c03dd1a",
   "metadata": {},
   "outputs": [],
   "source": [
    "l[7] = \"Shaw\""
   ]
  },
  {
   "cell_type": "code",
   "execution_count": 5,
   "id": "a6f13c15-27b1-4fe3-82b5-77c98d37632c",
   "metadata": {},
   "outputs": [
    {
     "data": {
      "text/plain": [
       "[1, 200, 3, 4, 5, 6, 'ariyan', 'Shaw', False, 23.67]"
      ]
     },
     "execution_count": 5,
     "metadata": {},
     "output_type": "execute_result"
    }
   ],
   "source": [
    "l"
   ]
  },
  {
   "cell_type": "markdown",
   "id": "6bfee93e-962c-4954-b60b-6a982c0f42f2",
   "metadata": {},
   "source": [
    "Non-mutable data types are those whose values cannot be changed after it is created. \n",
    "In case of list, the values could be altered using the index values but in case of String the letters in the position of \n",
    "string cannot be changed using index values."
   ]
  },
  {
   "cell_type": "code",
   "execution_count": 6,
   "id": "1c667424-d6bf-4d82-a432-06660ffe4626",
   "metadata": {},
   "outputs": [],
   "source": [
    "a = 'ariyan'"
   ]
  },
  {
   "cell_type": "code",
   "execution_count": 7,
   "id": "5a704dea-0952-4e55-a1ce-1217517e9140",
   "metadata": {},
   "outputs": [
    {
     "ename": "TypeError",
     "evalue": "'str' object does not support item assignment",
     "output_type": "error",
     "traceback": [
      "\u001b[0;31m---------------------------------------------------------------------------\u001b[0m",
      "\u001b[0;31mTypeError\u001b[0m                                 Traceback (most recent call last)",
      "Cell \u001b[0;32mIn[7], line 1\u001b[0m\n\u001b[0;32m----> 1\u001b[0m \u001b[43ma\u001b[49m\u001b[43m[\u001b[49m\u001b[38;5;241;43m0\u001b[39;49m\u001b[43m]\u001b[49m \u001b[38;5;241m=\u001b[39m \u001b[38;5;124m'\u001b[39m\u001b[38;5;124ms\u001b[39m\u001b[38;5;124m'\u001b[39m\n",
      "\u001b[0;31mTypeError\u001b[0m: 'str' object does not support item assignment"
     ]
    }
   ],
   "source": [
    "a[0] = 's'"
   ]
  },
  {
   "cell_type": "code",
   "execution_count": null,
   "id": "90590c71-50ff-44f4-aeda-9c44f8480ca9",
   "metadata": {},
   "outputs": [],
   "source": []
  }
 ],
 "metadata": {
  "kernelspec": {
   "display_name": "Python 3 (ipykernel)",
   "language": "python",
   "name": "python3"
  },
  "language_info": {
   "codemirror_mode": {
    "name": "ipython",
    "version": 3
   },
   "file_extension": ".py",
   "mimetype": "text/x-python",
   "name": "python",
   "nbconvert_exporter": "python",
   "pygments_lexer": "ipython3",
   "version": "3.10.8"
  }
 },
 "nbformat": 4,
 "nbformat_minor": 5
}
