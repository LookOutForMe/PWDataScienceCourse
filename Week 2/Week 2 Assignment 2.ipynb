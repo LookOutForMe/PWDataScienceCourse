{
 "cells": [
  {
   "cell_type": "markdown",
   "id": "70382a7c-a141-48c5-9ed7-634703a01539",
   "metadata": {},
   "source": [
    "# Q1. How do you comment code in Python? What are the different types of comments?"
   ]
  },
  {
   "cell_type": "markdown",
   "id": "9e7de4a8-32c0-4f9e-93d6-9834599de5f4",
   "metadata": {},
   "source": [
    "Ans: There are three types of comments in Python. They are:"
   ]
  },
  {
   "cell_type": "markdown",
   "id": "5a4b0392-7d4d-480f-926a-50545396958e",
   "metadata": {
    "tags": []
   },
   "source": [
    " 1. Single-Line Comments: Python single-line comment starts with the hashtag symbol (#) with no white spaces and lasts till the end of the line."
   ]
  },
  {
   "cell_type": "markdown",
   "id": "29d3cc23-ca44-4768-82ae-751c9ca9075a",
   "metadata": {},
   "source": [
    "2. Multi-Line Comments: Python does not have an option for multi line comments but there are several other ways. \n",
    "    One of them is by using multiple hashtags (#).\n",
    "    Another option is to use the string with triple quotes(\"\"\") as multi line comments."
   ]
  },
  {
   "cell_type": "markdown",
   "id": "0f47a0e0-38ab-4ad7-a681-a8c922c46bb0",
   "metadata": {},
   "source": [
    "3. Docstring Comments: The strings enclosed in triple quotes that come immediately after the defined function are called Python docstring. \n",
    "    It's designed to link documentation developed for Python modules, methods, classes, and functions together.\n",
    "    \n",
    "    Examples of all the comments are given below:"
   ]
  },
  {
   "cell_type": "code",
   "execution_count": 7,
   "id": "a5a6330f-251b-4130-92d7-fa359e8c88ed",
   "metadata": {},
   "outputs": [
    {
     "name": "stdout",
     "output_type": "stream",
     "text": [
      "This function adds the values of x and y\n"
     ]
    }
   ],
   "source": [
    "#This is a single-line comment\n",
    "\n",
    "\"\"\"This is a piece of code\n",
    "to demonstrate multi-line comment\"\"\"\n",
    "\n",
    "\n",
    "#Code to show how we use docstring in Python\n",
    "\n",
    "def add(x,y):  \n",
    "    \"\"\"This function adds the values of x and y\"\"\"  \n",
    "    return x + y  \n",
    "   \n",
    "# Displaying the docstring of the add function  \n",
    "print( add.__doc__ ) "
   ]
  },
  {
   "cell_type": "markdown",
   "id": "3fd89858-0e47-4d15-a0ad-9e956b1824c0",
   "metadata": {
    "tags": []
   },
   "source": [
    "# Q2. What are variables in Python? How do you declare and assign values to variables?"
   ]
  },
  {
   "cell_type": "markdown",
   "id": "d9e862d7-699e-4096-943c-dd0bbb444d95",
   "metadata": {},
   "source": [
    "Ans: Variables are containers for storing data values. After declaring the variable we can use it anywhere in the programme with the help of its name and manipulate it.\n",
    "\n",
    "The following can be followed to declare and assign values to a variable:\n",
    "\n",
    "1. Python has no command for declaring a variable. A variable is created the moment you first assign a value to it. Variables do not need to be declared with any particular type, and can even change type after they have been set.\n",
    "\n",
    "2. We assign the values (string, int, boolean, float etc) to the variable with the help of assign operator '='.\n",
    "\n",
    "Example is given below:"
   ]
  },
  {
   "cell_type": "code",
   "execution_count": 10,
   "id": "e5c03ddc-2f1a-422d-8ec5-204d2d6b55c9",
   "metadata": {},
   "outputs": [
    {
     "name": "stdout",
     "output_type": "stream",
     "text": [
      "22\n",
      "ariyan\n"
     ]
    }
   ],
   "source": [
    "x = 22\n",
    "y = \"ariyan\"\n",
    "print(x)\n",
    "print(y)"
   ]
  },
  {
   "cell_type": "markdown",
   "id": "00cb924d-3e70-4ec8-8906-e278f80ca97f",
   "metadata": {},
   "source": [
    "# Q3. How do you convert one data type to another in Python?"
   ]
  },
  {
   "cell_type": "markdown",
   "id": "6f0d3983-58f2-44e3-a3a3-5479bbffe698",
   "metadata": {},
   "source": [
    "Ans: We use typecasting method to convert one type to another. Here is the few example below:"
   ]
  },
  {
   "cell_type": "code",
   "execution_count": 12,
   "id": "12002bf7-ae62-4607-a52e-70e8899ceb6e",
   "metadata": {},
   "outputs": [
    {
     "name": "stdout",
     "output_type": "stream",
     "text": [
      "convert \"23\" type <class 'str'> to 23 type <class 'int'>\n"
     ]
    }
   ],
   "source": [
    "#String to int (only if it contain a valid integer representation)\n",
    "a = \"23\"\n",
    "b = int(a)\n",
    "\n",
    "print(f'convert \"{a}\" type {type(a)} to {b} type {type(b)}')"
   ]
  },
  {
   "cell_type": "code",
   "execution_count": 13,
   "id": "96315ecf-7286-4867-a732-d0d0d22760a6",
   "metadata": {},
   "outputs": [
    {
     "name": "stdout",
     "output_type": "stream",
     "text": [
      "convert \"23.56\" type <class 'str'> to 23.56 type <class 'float'>\n"
     ]
    }
   ],
   "source": [
    "#String to float (only if it contain a valid float representation)\n",
    "a = \"23.56\"\n",
    "b = float(a)\n",
    "\n",
    "print(f'convert \"{a}\" type {type(a)} to {b} type {type(b)}')"
   ]
  },
  {
   "cell_type": "code",
   "execution_count": 15,
   "id": "3c12fd57-f091-4959-a301-a8e85caae30a",
   "metadata": {},
   "outputs": [
    {
     "name": "stdout",
     "output_type": "stream",
     "text": [
      "convert 23 type <class 'int'> to \"23\" type <class 'str'>\n"
     ]
    }
   ],
   "source": [
    "#int to string\n",
    "a = 23\n",
    "b = str(a)\n",
    "\n",
    "print(f'convert {a} type {type(a)} to \"{b}\" type {type(b)}')"
   ]
  },
  {
   "cell_type": "code",
   "execution_count": 16,
   "id": "ed9e2579-cb3d-433f-8308-902e800931c7",
   "metadata": {},
   "outputs": [
    {
     "name": "stdout",
     "output_type": "stream",
     "text": [
      "convert [1, 2, 3] type <class 'list'> to (1, 2, 3) type <class 'tuple'>\n"
     ]
    }
   ],
   "source": [
    "#list to tuple\n",
    "l = [1,2,3]\n",
    "t = tuple(l)\n",
    "\n",
    "print(f'convert {l} type {type(l)} to {t} type {type(t)}')"
   ]
  },
  {
   "cell_type": "markdown",
   "id": "7ce6848d-8a00-4844-8104-36427056a10b",
   "metadata": {},
   "source": [
    "# Q4. How do you write and execute a Python script from the command line?"
   ]
  },
  {
   "cell_type": "markdown",
   "id": "b1cf4461-e20b-4650-b8f5-ddb8d4eafd1e",
   "metadata": {},
   "source": [
    "Ans:\n",
    "\n",
    "1. First of all, we need to open a text editor. We can write our code in Notepad.\n",
    "\n",
    "2. We can type our code in it. For eg: print(\"This is a test statement\")\n",
    "\n",
    "3. Next we have to save the file with a .py extension in a location. For example: test.py\n",
    "\n",
    "4. Now open 'command prompt', which is already present natively in your machine. We can open qany other terminal instead of cmd.\n",
    "\n",
    "5. Navigate to the file location within terminal using cd command. If it is in Desktop then we can use \"cd Desktop\".\n",
    "\n",
    "6. Once you are in the file location. Execute the python script using the python3 command. For eg: python3 test.py"
   ]
  },
  {
   "cell_type": "markdown",
   "id": "ef74bf6e-f86b-4809-8f36-4b18493d9acd",
   "metadata": {},
   "source": [
    "# Q5. Given a list my_list = [1, 2, 3, 4, 5], write the code to slice the list and obtain the sub-list [2, 3]."
   ]
  },
  {
   "cell_type": "code",
   "execution_count": 19,
   "id": "74c40064-87bf-4bdc-a8ed-660519a27ec8",
   "metadata": {},
   "outputs": [
    {
     "data": {
      "text/plain": [
       "[2, 3]"
      ]
     },
     "execution_count": 19,
     "metadata": {},
     "output_type": "execute_result"
    }
   ],
   "source": [
    "my_list = [1,2,3,4,5]\n",
    "sub_list = my_list[1:3]\n",
    "sub_list"
   ]
  },
  {
   "cell_type": "markdown",
   "id": "c3677682-645c-4d59-9038-b27d59be8701",
   "metadata": {},
   "source": [
    "# Q6. What is a complex number in mathematics, and how is it represented in Python?"
   ]
  },
  {
   "cell_type": "markdown",
   "id": "24b2ae28-e1c9-40a2-88b8-adc4c7eb625b",
   "metadata": {},
   "source": [
    "Ans: Complex number is the number that can express it like a + bi, where a & b is real number and i is the imaginary unit. a is the real part of the complex number and b is the imaginary part of the complex number.\n",
    "\n",
    "In Python we can write j insted of i to represent the imaginary unit of the complex number. So, in Python we can write it like this a+bj. For example:"
   ]
  },
  {
   "cell_type": "code",
   "execution_count": 25,
   "id": "833b11ce-9ed1-40f8-99ed-b4e04a237b44",
   "metadata": {},
   "outputs": [
    {
     "name": "stdout",
     "output_type": "stream",
     "text": [
      "Real part of the complex number is {num.real} & Imaginary part of the complex number is {num.imag}\n"
     ]
    }
   ],
   "source": [
    "#Complex number\n",
    "num = 8+5j\n",
    "\n",
    "print('Real part of the complex number is {num.real} & Imaginary part of the complex number is {num.imag}')"
   ]
  },
  {
   "cell_type": "markdown",
   "id": "370b8e3b-2a98-4d9c-98d8-267db35cc89d",
   "metadata": {},
   "source": [
    "# Q7. What is the correct way to declare a variable named age and assign the value 25 to it?"
   ]
  },
  {
   "cell_type": "code",
   "execution_count": 27,
   "id": "f1792d3a-d92b-42fe-82fa-4b6f1177ce3e",
   "metadata": {},
   "outputs": [],
   "source": [
    "age = 25"
   ]
  },
  {
   "cell_type": "markdown",
   "id": "1041cc42-a97b-4fb4-abb0-5fceece085b2",
   "metadata": {},
   "source": [
    "# Q8. Declare a variable named price and assign the value 9.99 to it. What data type does this variable belong to?"
   ]
  },
  {
   "cell_type": "code",
   "execution_count": 28,
   "id": "99502b2a-ec6d-4c62-baad-82c4ad9c5a5a",
   "metadata": {},
   "outputs": [
    {
     "data": {
      "text/plain": [
       "float"
      ]
     },
     "execution_count": 28,
     "metadata": {},
     "output_type": "execute_result"
    }
   ],
   "source": [
    "price = 9.99\n",
    "type(price)"
   ]
  },
  {
   "cell_type": "markdown",
   "id": "2aea1098-b755-446d-95bf-fc89554dea51",
   "metadata": {},
   "source": [
    "# Q9. Create a variable named name and assign your full name to it as a string. How would you print the value of this variable?"
   ]
  },
  {
   "cell_type": "code",
   "execution_count": 29,
   "id": "0dde334f-925a-45e7-a2f5-d58b2362c589",
   "metadata": {},
   "outputs": [
    {
     "name": "stdout",
     "output_type": "stream",
     "text": [
      "Ariyan Shaw\n"
     ]
    }
   ],
   "source": [
    "name = \"Ariyan Shaw\"\n",
    "print(name)"
   ]
  },
  {
   "cell_type": "markdown",
   "id": "b6c33955-53f1-4505-8fdb-513f722e2e94",
   "metadata": {},
   "source": [
    "# Q10. Given the string \"Hello, World!\", extract the substring \"World\"."
   ]
  },
  {
   "cell_type": "code",
   "execution_count": 33,
   "id": "e9c0e06f-5cdb-44d2-980e-9dc8d7e1c2e0",
   "metadata": {},
   "outputs": [
    {
     "data": {
      "text/plain": [
       "'World'"
      ]
     },
     "execution_count": 33,
     "metadata": {},
     "output_type": "execute_result"
    }
   ],
   "source": [
    "hello = \"Hello, World!\"\n",
    "sub_str = hello[7:12]\n",
    "sub_str"
   ]
  },
  {
   "cell_type": "markdown",
   "id": "c53e1586-643d-43fc-97ab-cfcbdc9d4fbb",
   "metadata": {},
   "source": [
    "# Q11. Create a variable named \"is_student\" and assign it a boolean value indicating whether you are currently a student or not."
   ]
  },
  {
   "cell_type": "code",
   "execution_count": 34,
   "id": "e26ac303-324b-46a4-81ab-615e9e0533ce",
   "metadata": {},
   "outputs": [
    {
     "data": {
      "text/plain": [
       "bool"
      ]
     },
     "execution_count": 34,
     "metadata": {},
     "output_type": "execute_result"
    }
   ],
   "source": [
    "is_student = True\n",
    "type(is_student)"
   ]
  },
  {
   "cell_type": "code",
   "execution_count": null,
   "id": "47a1b61e-35c5-4392-80af-86bb181a4bb5",
   "metadata": {},
   "outputs": [],
   "source": []
  }
 ],
 "metadata": {
  "kernelspec": {
   "display_name": "Python 3 (ipykernel)",
   "language": "python",
   "name": "python3"
  },
  "language_info": {
   "codemirror_mode": {
    "name": "ipython",
    "version": 3
   },
   "file_extension": ".py",
   "mimetype": "text/x-python",
   "name": "python",
   "nbconvert_exporter": "python",
   "pygments_lexer": "ipython3",
   "version": "3.10.8"
  }
 },
 "nbformat": 4,
 "nbformat_minor": 5
}
