{
 "cells": [
  {
   "cell_type": "markdown",
   "id": "dcf87248-f09d-4a34-9935-a552b38e1e48",
   "metadata": {},
   "source": [
    "# Q1. Which keyword is used to create a function? Create a function to return a list of odd numbers in the range of 1 to 25."
   ]
  },
  {
   "cell_type": "markdown",
   "id": "4e62b361-2ea6-47a1-aefc-26bc72c20995",
   "metadata": {},
   "source": [
    "Ans: The 'def' keyword is used to create a function. \n",
    "Syntax of defining a function in Python is:\n",
    "\n",
    "def functionName():\n",
    "    #What to make the function do"
   ]
  },
  {
   "cell_type": "code",
   "execution_count": 15,
   "id": "958f4c82-aa21-463b-bdf1-d990054ec249",
   "metadata": {},
   "outputs": [],
   "source": [
    "a = list(range(1, 26))\n",
    "b = []\n",
    "def odd():\n",
    "    for i in a:\n",
    "        if i%2 == 1:\n",
    "            b.append(i)\n",
    "    return b"
   ]
  },
  {
   "cell_type": "code",
   "execution_count": 16,
   "id": "fead22f2-2c3c-48a5-b38c-13d866e36f86",
   "metadata": {},
   "outputs": [
    {
     "data": {
      "text/plain": [
       "[1, 3, 5, 7, 9, 11, 13, 15, 17, 19, 21, 23, 25]"
      ]
     },
     "execution_count": 16,
     "metadata": {},
     "output_type": "execute_result"
    }
   ],
   "source": [
    "odd()"
   ]
  },
  {
   "cell_type": "markdown",
   "id": "79f27db9-c808-4cfb-b634-270cc51620f9",
   "metadata": {},
   "source": [
    "# Q2. Why *args and **kwargs is used in some functions? Create a function each for *args and **kwargs to demonstrate their use."
   ]
  },
  {
   "cell_type": "markdown",
   "id": "1ce472d4-0089-4765-ae90-43b9716e886a",
   "metadata": {},
   "source": [
    "Ans: We use *args and **kwargs as an argument when we are unsure about the number of arguments to pass in the functions.\n",
    "We use *args which allows us to pass the variable number of non keyword arguments to function.\n",
    "We use **kwargs as it allows us to pass the variable length of keyword arguments to the function."
   ]
  },
  {
   "cell_type": "code",
   "execution_count": 18,
   "id": "62a156bb-4c9f-4f68-bf3f-afbbf99ed966",
   "metadata": {},
   "outputs": [
    {
     "name": "stdout",
     "output_type": "stream",
     "text": [
      "Sum: 8\n",
      "Sum: 22\n",
      "Sum: 17\n"
     ]
    }
   ],
   "source": [
    "#Example of *args\n",
    "#Sum of numbers \n",
    "#Variable number of non-keyword arguments passed to the function\n",
    "\n",
    "def add(*num):\n",
    "    sum = 0\n",
    "    for n in num:\n",
    "        sum = sum + n\n",
    "    print(\"Sum:\",sum)\n",
    "    \n",
    "add(3,5)\n",
    "add(4,5,6,7)\n",
    "add(1,2,3,5,6)"
   ]
  },
  {
   "cell_type": "code",
   "execution_count": 20,
   "id": "1fe1a13f-7b6b-4d3e-9a1d-0d4e2de4190e",
   "metadata": {},
   "outputs": [
    {
     "name": "stdout",
     "output_type": "stream",
     "text": [
      "Firstname is Ariyan\n",
      "Lastname is Shaw\n",
      "Age is 22\n",
      "Phone is 1234567890\n"
     ]
    }
   ],
   "source": [
    "#Example of **kwargs\n",
    "#Separating Keys and Values\n",
    "#Variable number of keyword arguments passed to the function\n",
    "\n",
    "def intro(**data):\n",
    "    for key, value in data.items():\n",
    "        print(\"{} is {}\".format(key,value))\n",
    "\n",
    "intro(Firstname=\"Ariyan\", Lastname=\"Shaw\", Age=22, Phone=1234567890)"
   ]
  },
  {
   "cell_type": "markdown",
   "id": "c2411569-01a9-4f98-ac53-6281262cd22d",
   "metadata": {},
   "source": [
    "# Q3. What is an iterator in python? Name the method used to initialise the iterator object and the method used for iteration. Use these methods to print the first five elements of the given list [2, 4, 6, 8, 10, 12, 14,16, 18, 20]."
   ]
  },
  {
   "cell_type": "markdown",
   "id": "f8b4b50f-5cbd-4505-835e-1ff34e378c0a",
   "metadata": {},
   "source": [
    "Ans: An iterator is an object that allows you to iterate over collections of data, such as lists, tuples, dictionaries and sets.\n",
    "\n",
    "iter() is the method used to initialise the iterator object. next() is the method used for iteration."
   ]
  },
  {
   "cell_type": "code",
   "execution_count": 3,
   "id": "7a5cb126-cef7-477d-b527-aed5a51d94ec",
   "metadata": {},
   "outputs": [
    {
     "name": "stdout",
     "output_type": "stream",
     "text": [
      "2\n",
      "4\n",
      "6\n",
      "8\n",
      "10\n"
     ]
    }
   ],
   "source": [
    "l = [2, 4, 6, 8, 10, 12, 14,16, 18, 20]\n",
    "l1 = iter(l)\n",
    "i = 0\n",
    "while i<5:\n",
    "    print(next(l1))\n",
    "    i+= 1"
   ]
  },
  {
   "cell_type": "markdown",
   "id": "00ab3812-91c7-4401-92f5-45a75514215d",
   "metadata": {},
   "source": [
    "# Q4. What is a generator function in python? Why yield keyword is used? Give an example of a generator function."
   ]
  },
  {
   "cell_type": "markdown",
   "id": "2bffd7c8-a17c-45af-8a7d-76502cc209f1",
   "metadata": {},
   "source": [
    "Ans: A generator function in Python is a type of function that returns an iterator object, which allows us to iterate over a sequence of values on the fly without having to store all of the values in memory at once.\n",
    "\n",
    "The yield keyword allows us to create a generator function that returns a sequence of values, without having to store all of the values in memory at once."
   ]
  },
  {
   "cell_type": "code",
   "execution_count": 4,
   "id": "d0faf9f2-2385-421a-8ec6-512f9f9e2604",
   "metadata": {},
   "outputs": [
    {
     "name": "stdout",
     "output_type": "stream",
     "text": [
      "Enter number of fibonacci numbers to be displayed: 6\n"
     ]
    },
    {
     "name": "stdout",
     "output_type": "stream",
     "text": [
      "0\n",
      "1\n",
      "1\n",
      "2\n",
      "3\n",
      "5\n"
     ]
    }
   ],
   "source": [
    "#Example of Generator Function\n",
    "#Fibonacci \n",
    "def fib(n):\n",
    "    a,b = 0,1\n",
    "    for i in range(n):\n",
    "        yield a\n",
    "        a,b = b , a+b\n",
    "\n",
    "user = int(input(\"Enter number of fibonacci numbers to be displayed:\"))\n",
    "for i in fib(user):\n",
    "    print(i)"
   ]
  },
  {
   "cell_type": "markdown",
   "id": "e905a3b5-2531-40ae-a646-3b842e76b550",
   "metadata": {},
   "source": [
    "# Q5. Create a generator function for prime numbers less than 1000. Use the next() method to print the first 20 prime numbers."
   ]
  },
  {
   "cell_type": "code",
   "execution_count": 15,
   "id": "00aa85ed-eb95-410e-908e-a38b5871ec2d",
   "metadata": {},
   "outputs": [
    {
     "data": {
      "text/plain": [
       "[2, 3, 5, 7, 11, 13, 17, 19, 23, 29, 31, 37, 41, 43, 47, 53, 59, 61, 67, 71]"
      ]
     },
     "execution_count": 15,
     "metadata": {},
     "output_type": "execute_result"
    }
   ],
   "source": [
    "#prime number function\n",
    "def prime(num):\n",
    "    if num < 2: return False\n",
    "    for i in range (2, num):\n",
    "        if num%i == 0:\n",
    "            return False\n",
    "    return True\n",
    "\n",
    "#prime number generator for less then 1000 \n",
    "def prime_generator():\n",
    "    for i in range(1000):\n",
    "        if prime(i):\n",
    "            yield i\n",
    "            \n",
    "#list of first 20 prime number\n",
    "prime_num = prime_generator()\n",
    "\n",
    "[next(prime_num) for i in range(20)]"
   ]
  },
  {
   "cell_type": "markdown",
   "id": "e247ca6d-6938-4562-a220-9515966152f8",
   "metadata": {},
   "source": [
    "# Q6. Write a python program to print the first 10 Fibonacci numbers using a while loop."
   ]
  },
  {
   "cell_type": "code",
   "execution_count": 19,
   "id": "4175b123-3df8-40ab-a8ad-3a3303c3c6b7",
   "metadata": {},
   "outputs": [
    {
     "name": "stdout",
     "output_type": "stream",
     "text": [
      "0\n",
      "1\n",
      "1\n",
      "2\n",
      "3\n",
      "5\n",
      "8\n",
      "13\n",
      "21\n",
      "34\n"
     ]
    }
   ],
   "source": [
    "c=0\n",
    "a, b = 0,1\n",
    "while c<10:\n",
    "    print(a)\n",
    "    a,b = b, a+b\n",
    "    c+=1"
   ]
  },
  {
   "cell_type": "markdown",
   "id": "1447c4cd-32e7-48ee-bc4b-24b14557b045",
   "metadata": {},
   "source": [
    "# Q7. Write a List Comprehension to iterate through the given string: ‘pwskills’.Expected output: ['p', 'w', 's', 'k', 'i', 'l', 'l', 's']"
   ]
  },
  {
   "cell_type": "code",
   "execution_count": 20,
   "id": "ec6d46c8-60a4-42b1-afbd-aa2c55c39a57",
   "metadata": {},
   "outputs": [
    {
     "data": {
      "text/plain": [
       "['p', 'w', 's', 'k', 'i', 'l', 'l', 's']"
      ]
     },
     "execution_count": 20,
     "metadata": {},
     "output_type": "execute_result"
    }
   ],
   "source": [
    "str = \"pwskills\"\n",
    "[i for i in str]"
   ]
  },
  {
   "cell_type": "markdown",
   "id": "c809b965-8e72-4335-af1f-4b9ba004ce4e",
   "metadata": {},
   "source": [
    "# Q8. Write a python program to check whether a given number is Palindrome or not using a while loop."
   ]
  },
  {
   "cell_type": "code",
   "execution_count": 11,
   "id": "c4b01405-1881-4fcc-ab5e-f0a3de564377",
   "metadata": {},
   "outputs": [
    {
     "name": "stdout",
     "output_type": "stream",
     "text": [
      "This value is a palindrome number!\n"
     ]
    }
   ],
   "source": [
    "num = int(input(\"Enter a value:\"))  \n",
    "temp = num  \n",
    "rev = 0  \n",
    "while(num > 0):  \n",
    "    dig = num % 10  \n",
    "    rev = rev * 10 + dig  \n",
    "    num = num // 10  \n",
    "if(temp == rev):  \n",
    "    print(\"This value is a palindrome number!\")  \n",
    "else:  \n",
    "    print(\"This value is not a palindrome number\")"
   ]
  },
  {
   "cell_type": "markdown",
   "id": "28e0e6dd",
   "metadata": {},
   "source": [
    "# Q9. Write a code to print odd numbers from 1 to 100 using list comprehension.\n",
    "Note: Use a list comprehension to create a list from 1 to 100 and use another List comprehension to filter\n",
    "out odd numbers."
   ]
  },
  {
   "cell_type": "code",
   "execution_count": 10,
   "id": "89ff6d98",
   "metadata": {},
   "outputs": [
    {
     "data": {
      "text/plain": [
       "[1,\n",
       " 3,\n",
       " 5,\n",
       " 7,\n",
       " 9,\n",
       " 11,\n",
       " 13,\n",
       " 15,\n",
       " 17,\n",
       " 19,\n",
       " 21,\n",
       " 23,\n",
       " 25,\n",
       " 27,\n",
       " 29,\n",
       " 31,\n",
       " 33,\n",
       " 35,\n",
       " 37,\n",
       " 39,\n",
       " 41,\n",
       " 43,\n",
       " 45,\n",
       " 47,\n",
       " 49,\n",
       " 51,\n",
       " 53,\n",
       " 55,\n",
       " 57,\n",
       " 59,\n",
       " 61,\n",
       " 63,\n",
       " 65,\n",
       " 67,\n",
       " 69,\n",
       " 71,\n",
       " 73,\n",
       " 75,\n",
       " 77,\n",
       " 79,\n",
       " 81,\n",
       " 83,\n",
       " 85,\n",
       " 87,\n",
       " 89,\n",
       " 91,\n",
       " 93,\n",
       " 95,\n",
       " 97,\n",
       " 99]"
      ]
     },
     "execution_count": 10,
     "metadata": {},
     "output_type": "execute_result"
    }
   ],
   "source": [
    "#list of 1 to 100 using comprehension method\n",
    "l1 = [i for i in range(1, 101)]\n",
    "\n",
    "#List comprehension to filter out odd numbers\n",
    "l2 = list(filter(lambda x: x%2==1, l1))\n",
    "l2"
   ]
  },
  {
   "cell_type": "code",
   "execution_count": null,
   "id": "047ef558",
   "metadata": {},
   "outputs": [],
   "source": []
  }
 ],
 "metadata": {
  "kernelspec": {
   "display_name": "Python 3 (ipykernel)",
   "language": "python",
   "name": "python3"
  },
  "language_info": {
   "codemirror_mode": {
    "name": "ipython",
    "version": 3
   },
   "file_extension": ".py",
   "mimetype": "text/x-python",
   "name": "python",
   "nbconvert_exporter": "python",
   "pygments_lexer": "ipython3",
   "version": "3.11.3"
  }
 },
 "nbformat": 4,
 "nbformat_minor": 5
}
